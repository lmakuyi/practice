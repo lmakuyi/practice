{
 "cells": [
  {
   "cell_type": "code",
   "execution_count": 1,
   "metadata": {},
   "outputs": [
    {
     "name": "stdout",
     "output_type": "stream",
     "text": [
      "Amount in GBP 201.02\n",
      "Thank You For Using Latitch's Currency Converter\n"
     ]
    }
   ],
   "source": [
    "moneys=input('How Much Money Do You Want To Convert?')\n",
    "currency=input('Is this in (A)rgentine Pesos or (G)BP?: ')\n",
    "if currency.upper() == \"A\":\n",
    "    converted = float(moneys)/float(333.3)\n",
    "    txt = 'Amount in GBP {gbp:.2f}'\n",
    "    print(txt.format(gbp=converted))\n",
    "elif currency.upper() == 'G':\n",
    "    converted = float(moneys)*float(333.3)\n",
    "    txt= 'Amount in ARG {arg:.2f}'\n",
    "    print(txt.format(arg = converted))\n",
    "else:\n",
    "    print('incorrect input, please try again')\n",
    "print(\"Thank You For Using Latitch's Currency Converter\")"
   ]
  }
 ],
 "metadata": {
  "kernelspec": {
   "display_name": "Python 3.10.7 64-bit",
   "language": "python",
   "name": "python3"
  },
  "language_info": {
   "codemirror_mode": {
    "name": "ipython",
    "version": 3
   },
   "file_extension": ".py",
   "mimetype": "text/x-python",
   "name": "python",
   "nbconvert_exporter": "python",
   "pygments_lexer": "ipython3",
   "version": "3.10.7"
  },
  "orig_nbformat": 4,
  "vscode": {
   "interpreter": {
    "hash": "aee8b7b246df8f9039afb4144a1f6fd8d2ca17a180786b69acc140d282b71a49"
   }
  }
 },
 "nbformat": 4,
 "nbformat_minor": 2
}
